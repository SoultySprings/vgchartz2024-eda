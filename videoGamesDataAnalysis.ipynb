{
 "cells": [
  {
   "metadata": {},
   "cell_type": "markdown",
   "source": "# VGCharts till 2024 EDA (Exploratory Data Analysis) using pandas and plotly)!",
   "id": "78faa4d10c888c28"
  },
  {
   "metadata": {},
   "cell_type": "markdown",
   "source": "## Reading, Framing and Fixing Dataframes start ->",
   "id": "2b0928be0e429e75"
  },
  {
   "metadata": {},
   "cell_type": "markdown",
   "source": "### Import libraries and packages as well as reading `vgchartz-2024.csv`",
   "id": "a05d40667a01c48a"
  },
  {
   "cell_type": "code",
   "id": "initial_id",
   "metadata": {
    "collapsed": true,
    "ExecuteTime": {
     "end_time": "2025-06-05T12:38:41.301100Z",
     "start_time": "2025-06-05T12:38:41.056277Z"
    }
   },
   "source": [
    "import pandas as pd, plotly.express as px\n",
    "df = pd.read_csv('/kaggle/input/video-game-sales/vgchartz-2024.csv')\n",
    "dfN = df.copy()\n",
    "dfN = df.drop('img', axis=1)\n",
    "dfN.info()"
   ],
   "outputs": [
    {
     "ename": "FileNotFoundError",
     "evalue": "[Errno 2] No such file or directory: '/kaggle/input/video-game-sales/vgchartz-2024.csv'",
     "output_type": "error",
     "traceback": [
      "\u001B[31m---------------------------------------------------------------------------\u001B[39m",
      "\u001B[31mFileNotFoundError\u001B[39m                         Traceback (most recent call last)",
      "\u001B[36mCell\u001B[39m\u001B[36m \u001B[39m\u001B[32mIn[207]\u001B[39m\u001B[32m, line 2\u001B[39m\n\u001B[32m      1\u001B[39m \u001B[38;5;28;01mimport\u001B[39;00m\u001B[38;5;250m \u001B[39m\u001B[34;01mpandas\u001B[39;00m\u001B[38;5;250m \u001B[39m\u001B[38;5;28;01mas\u001B[39;00m\u001B[38;5;250m \u001B[39m\u001B[34;01mpd\u001B[39;00m,\u001B[38;5;250m \u001B[39m\u001B[34;01mplotly\u001B[39;00m\u001B[34;01m.\u001B[39;00m\u001B[34;01mexpress\u001B[39;00m\u001B[38;5;250m \u001B[39m\u001B[38;5;28;01mas\u001B[39;00m\u001B[38;5;250m \u001B[39m\u001B[34;01mpx\u001B[39;00m\n\u001B[32m----> \u001B[39m\u001B[32m2\u001B[39m df = \u001B[43mpd\u001B[49m\u001B[43m.\u001B[49m\u001B[43mread_csv\u001B[49m\u001B[43m(\u001B[49m\u001B[33;43m'\u001B[39;49m\u001B[33;43m/kaggle/input/video-game-sales/vgchartz-2024.csv\u001B[39;49m\u001B[33;43m'\u001B[39;49m\u001B[43m)\u001B[49m\n\u001B[32m      3\u001B[39m dfN = df.copy()\n\u001B[32m      4\u001B[39m dfN = df.drop(\u001B[33m'\u001B[39m\u001B[33mimg\u001B[39m\u001B[33m'\u001B[39m, axis=\u001B[32m1\u001B[39m)\n",
      "\u001B[36mFile \u001B[39m\u001B[32m~\\PycharmProjects\\PythonProject\\.venv\\Lib\\site-packages\\pandas\\io\\parsers\\readers.py:1026\u001B[39m, in \u001B[36mread_csv\u001B[39m\u001B[34m(filepath_or_buffer, sep, delimiter, header, names, index_col, usecols, dtype, engine, converters, true_values, false_values, skipinitialspace, skiprows, skipfooter, nrows, na_values, keep_default_na, na_filter, verbose, skip_blank_lines, parse_dates, infer_datetime_format, keep_date_col, date_parser, date_format, dayfirst, cache_dates, iterator, chunksize, compression, thousands, decimal, lineterminator, quotechar, quoting, doublequote, escapechar, comment, encoding, encoding_errors, dialect, on_bad_lines, delim_whitespace, low_memory, memory_map, float_precision, storage_options, dtype_backend)\u001B[39m\n\u001B[32m   1013\u001B[39m kwds_defaults = _refine_defaults_read(\n\u001B[32m   1014\u001B[39m     dialect,\n\u001B[32m   1015\u001B[39m     delimiter,\n\u001B[32m   (...)\u001B[39m\u001B[32m   1022\u001B[39m     dtype_backend=dtype_backend,\n\u001B[32m   1023\u001B[39m )\n\u001B[32m   1024\u001B[39m kwds.update(kwds_defaults)\n\u001B[32m-> \u001B[39m\u001B[32m1026\u001B[39m \u001B[38;5;28;01mreturn\u001B[39;00m \u001B[43m_read\u001B[49m\u001B[43m(\u001B[49m\u001B[43mfilepath_or_buffer\u001B[49m\u001B[43m,\u001B[49m\u001B[43m \u001B[49m\u001B[43mkwds\u001B[49m\u001B[43m)\u001B[49m\n",
      "\u001B[36mFile \u001B[39m\u001B[32m~\\PycharmProjects\\PythonProject\\.venv\\Lib\\site-packages\\pandas\\io\\parsers\\readers.py:620\u001B[39m, in \u001B[36m_read\u001B[39m\u001B[34m(filepath_or_buffer, kwds)\u001B[39m\n\u001B[32m    617\u001B[39m _validate_names(kwds.get(\u001B[33m\"\u001B[39m\u001B[33mnames\u001B[39m\u001B[33m\"\u001B[39m, \u001B[38;5;28;01mNone\u001B[39;00m))\n\u001B[32m    619\u001B[39m \u001B[38;5;66;03m# Create the parser.\u001B[39;00m\n\u001B[32m--> \u001B[39m\u001B[32m620\u001B[39m parser = \u001B[43mTextFileReader\u001B[49m\u001B[43m(\u001B[49m\u001B[43mfilepath_or_buffer\u001B[49m\u001B[43m,\u001B[49m\u001B[43m \u001B[49m\u001B[43m*\u001B[49m\u001B[43m*\u001B[49m\u001B[43mkwds\u001B[49m\u001B[43m)\u001B[49m\n\u001B[32m    622\u001B[39m \u001B[38;5;28;01mif\u001B[39;00m chunksize \u001B[38;5;129;01mor\u001B[39;00m iterator:\n\u001B[32m    623\u001B[39m     \u001B[38;5;28;01mreturn\u001B[39;00m parser\n",
      "\u001B[36mFile \u001B[39m\u001B[32m~\\PycharmProjects\\PythonProject\\.venv\\Lib\\site-packages\\pandas\\io\\parsers\\readers.py:1620\u001B[39m, in \u001B[36mTextFileReader.__init__\u001B[39m\u001B[34m(self, f, engine, **kwds)\u001B[39m\n\u001B[32m   1617\u001B[39m     \u001B[38;5;28mself\u001B[39m.options[\u001B[33m\"\u001B[39m\u001B[33mhas_index_names\u001B[39m\u001B[33m\"\u001B[39m] = kwds[\u001B[33m\"\u001B[39m\u001B[33mhas_index_names\u001B[39m\u001B[33m\"\u001B[39m]\n\u001B[32m   1619\u001B[39m \u001B[38;5;28mself\u001B[39m.handles: IOHandles | \u001B[38;5;28;01mNone\u001B[39;00m = \u001B[38;5;28;01mNone\u001B[39;00m\n\u001B[32m-> \u001B[39m\u001B[32m1620\u001B[39m \u001B[38;5;28mself\u001B[39m._engine = \u001B[38;5;28;43mself\u001B[39;49m\u001B[43m.\u001B[49m\u001B[43m_make_engine\u001B[49m\u001B[43m(\u001B[49m\u001B[43mf\u001B[49m\u001B[43m,\u001B[49m\u001B[43m \u001B[49m\u001B[38;5;28;43mself\u001B[39;49m\u001B[43m.\u001B[49m\u001B[43mengine\u001B[49m\u001B[43m)\u001B[49m\n",
      "\u001B[36mFile \u001B[39m\u001B[32m~\\PycharmProjects\\PythonProject\\.venv\\Lib\\site-packages\\pandas\\io\\parsers\\readers.py:1880\u001B[39m, in \u001B[36mTextFileReader._make_engine\u001B[39m\u001B[34m(self, f, engine)\u001B[39m\n\u001B[32m   1878\u001B[39m     \u001B[38;5;28;01mif\u001B[39;00m \u001B[33m\"\u001B[39m\u001B[33mb\u001B[39m\u001B[33m\"\u001B[39m \u001B[38;5;129;01mnot\u001B[39;00m \u001B[38;5;129;01min\u001B[39;00m mode:\n\u001B[32m   1879\u001B[39m         mode += \u001B[33m\"\u001B[39m\u001B[33mb\u001B[39m\u001B[33m\"\u001B[39m\n\u001B[32m-> \u001B[39m\u001B[32m1880\u001B[39m \u001B[38;5;28mself\u001B[39m.handles = \u001B[43mget_handle\u001B[49m\u001B[43m(\u001B[49m\n\u001B[32m   1881\u001B[39m \u001B[43m    \u001B[49m\u001B[43mf\u001B[49m\u001B[43m,\u001B[49m\n\u001B[32m   1882\u001B[39m \u001B[43m    \u001B[49m\u001B[43mmode\u001B[49m\u001B[43m,\u001B[49m\n\u001B[32m   1883\u001B[39m \u001B[43m    \u001B[49m\u001B[43mencoding\u001B[49m\u001B[43m=\u001B[49m\u001B[38;5;28;43mself\u001B[39;49m\u001B[43m.\u001B[49m\u001B[43moptions\u001B[49m\u001B[43m.\u001B[49m\u001B[43mget\u001B[49m\u001B[43m(\u001B[49m\u001B[33;43m\"\u001B[39;49m\u001B[33;43mencoding\u001B[39;49m\u001B[33;43m\"\u001B[39;49m\u001B[43m,\u001B[49m\u001B[43m \u001B[49m\u001B[38;5;28;43;01mNone\u001B[39;49;00m\u001B[43m)\u001B[49m\u001B[43m,\u001B[49m\n\u001B[32m   1884\u001B[39m \u001B[43m    \u001B[49m\u001B[43mcompression\u001B[49m\u001B[43m=\u001B[49m\u001B[38;5;28;43mself\u001B[39;49m\u001B[43m.\u001B[49m\u001B[43moptions\u001B[49m\u001B[43m.\u001B[49m\u001B[43mget\u001B[49m\u001B[43m(\u001B[49m\u001B[33;43m\"\u001B[39;49m\u001B[33;43mcompression\u001B[39;49m\u001B[33;43m\"\u001B[39;49m\u001B[43m,\u001B[49m\u001B[43m \u001B[49m\u001B[38;5;28;43;01mNone\u001B[39;49;00m\u001B[43m)\u001B[49m\u001B[43m,\u001B[49m\n\u001B[32m   1885\u001B[39m \u001B[43m    \u001B[49m\u001B[43mmemory_map\u001B[49m\u001B[43m=\u001B[49m\u001B[38;5;28;43mself\u001B[39;49m\u001B[43m.\u001B[49m\u001B[43moptions\u001B[49m\u001B[43m.\u001B[49m\u001B[43mget\u001B[49m\u001B[43m(\u001B[49m\u001B[33;43m\"\u001B[39;49m\u001B[33;43mmemory_map\u001B[39;49m\u001B[33;43m\"\u001B[39;49m\u001B[43m,\u001B[49m\u001B[43m \u001B[49m\u001B[38;5;28;43;01mFalse\u001B[39;49;00m\u001B[43m)\u001B[49m\u001B[43m,\u001B[49m\n\u001B[32m   1886\u001B[39m \u001B[43m    \u001B[49m\u001B[43mis_text\u001B[49m\u001B[43m=\u001B[49m\u001B[43mis_text\u001B[49m\u001B[43m,\u001B[49m\n\u001B[32m   1887\u001B[39m \u001B[43m    \u001B[49m\u001B[43merrors\u001B[49m\u001B[43m=\u001B[49m\u001B[38;5;28;43mself\u001B[39;49m\u001B[43m.\u001B[49m\u001B[43moptions\u001B[49m\u001B[43m.\u001B[49m\u001B[43mget\u001B[49m\u001B[43m(\u001B[49m\u001B[33;43m\"\u001B[39;49m\u001B[33;43mencoding_errors\u001B[39;49m\u001B[33;43m\"\u001B[39;49m\u001B[43m,\u001B[49m\u001B[43m \u001B[49m\u001B[33;43m\"\u001B[39;49m\u001B[33;43mstrict\u001B[39;49m\u001B[33;43m\"\u001B[39;49m\u001B[43m)\u001B[49m\u001B[43m,\u001B[49m\n\u001B[32m   1888\u001B[39m \u001B[43m    \u001B[49m\u001B[43mstorage_options\u001B[49m\u001B[43m=\u001B[49m\u001B[38;5;28;43mself\u001B[39;49m\u001B[43m.\u001B[49m\u001B[43moptions\u001B[49m\u001B[43m.\u001B[49m\u001B[43mget\u001B[49m\u001B[43m(\u001B[49m\u001B[33;43m\"\u001B[39;49m\u001B[33;43mstorage_options\u001B[39;49m\u001B[33;43m\"\u001B[39;49m\u001B[43m,\u001B[49m\u001B[43m \u001B[49m\u001B[38;5;28;43;01mNone\u001B[39;49;00m\u001B[43m)\u001B[49m\u001B[43m,\u001B[49m\n\u001B[32m   1889\u001B[39m \u001B[43m\u001B[49m\u001B[43m)\u001B[49m\n\u001B[32m   1890\u001B[39m \u001B[38;5;28;01massert\u001B[39;00m \u001B[38;5;28mself\u001B[39m.handles \u001B[38;5;129;01mis\u001B[39;00m \u001B[38;5;129;01mnot\u001B[39;00m \u001B[38;5;28;01mNone\u001B[39;00m\n\u001B[32m   1891\u001B[39m f = \u001B[38;5;28mself\u001B[39m.handles.handle\n",
      "\u001B[36mFile \u001B[39m\u001B[32m~\\PycharmProjects\\PythonProject\\.venv\\Lib\\site-packages\\pandas\\io\\common.py:873\u001B[39m, in \u001B[36mget_handle\u001B[39m\u001B[34m(path_or_buf, mode, encoding, compression, memory_map, is_text, errors, storage_options)\u001B[39m\n\u001B[32m    868\u001B[39m \u001B[38;5;28;01melif\u001B[39;00m \u001B[38;5;28misinstance\u001B[39m(handle, \u001B[38;5;28mstr\u001B[39m):\n\u001B[32m    869\u001B[39m     \u001B[38;5;66;03m# Check whether the filename is to be opened in binary mode.\u001B[39;00m\n\u001B[32m    870\u001B[39m     \u001B[38;5;66;03m# Binary mode does not support 'encoding' and 'newline'.\u001B[39;00m\n\u001B[32m    871\u001B[39m     \u001B[38;5;28;01mif\u001B[39;00m ioargs.encoding \u001B[38;5;129;01mand\u001B[39;00m \u001B[33m\"\u001B[39m\u001B[33mb\u001B[39m\u001B[33m\"\u001B[39m \u001B[38;5;129;01mnot\u001B[39;00m \u001B[38;5;129;01min\u001B[39;00m ioargs.mode:\n\u001B[32m    872\u001B[39m         \u001B[38;5;66;03m# Encoding\u001B[39;00m\n\u001B[32m--> \u001B[39m\u001B[32m873\u001B[39m         handle = \u001B[38;5;28;43mopen\u001B[39;49m\u001B[43m(\u001B[49m\n\u001B[32m    874\u001B[39m \u001B[43m            \u001B[49m\u001B[43mhandle\u001B[49m\u001B[43m,\u001B[49m\n\u001B[32m    875\u001B[39m \u001B[43m            \u001B[49m\u001B[43mioargs\u001B[49m\u001B[43m.\u001B[49m\u001B[43mmode\u001B[49m\u001B[43m,\u001B[49m\n\u001B[32m    876\u001B[39m \u001B[43m            \u001B[49m\u001B[43mencoding\u001B[49m\u001B[43m=\u001B[49m\u001B[43mioargs\u001B[49m\u001B[43m.\u001B[49m\u001B[43mencoding\u001B[49m\u001B[43m,\u001B[49m\n\u001B[32m    877\u001B[39m \u001B[43m            \u001B[49m\u001B[43merrors\u001B[49m\u001B[43m=\u001B[49m\u001B[43merrors\u001B[49m\u001B[43m,\u001B[49m\n\u001B[32m    878\u001B[39m \u001B[43m            \u001B[49m\u001B[43mnewline\u001B[49m\u001B[43m=\u001B[49m\u001B[33;43m\"\u001B[39;49m\u001B[33;43m\"\u001B[39;49m\u001B[43m,\u001B[49m\n\u001B[32m    879\u001B[39m \u001B[43m        \u001B[49m\u001B[43m)\u001B[49m\n\u001B[32m    880\u001B[39m     \u001B[38;5;28;01melse\u001B[39;00m:\n\u001B[32m    881\u001B[39m         \u001B[38;5;66;03m# Binary mode\u001B[39;00m\n\u001B[32m    882\u001B[39m         handle = \u001B[38;5;28mopen\u001B[39m(handle, ioargs.mode)\n",
      "\u001B[31mFileNotFoundError\u001B[39m: [Errno 2] No such file or directory: '/kaggle/input/video-game-sales/vgchartz-2024.csv'"
     ]
    }
   ],
   "execution_count": 207
  },
  {
   "metadata": {},
   "cell_type": "markdown",
   "source": "### Here the datetime has been converted into better format to remove the year for latter analysis",
   "id": "5f9e7e9a672d7b13"
  },
  {
   "metadata": {},
   "cell_type": "code",
   "source": [
    "dfN['release_date'] = pd.to_datetime(dfN['release_date'])\n",
    "dfN['rd_year'] = dfN['release_date'].dt.year\n",
    "dfN75_00 = dfN[dfN['rd_year'].astype('str').str.contains('1975|1976|1977|1978|1979|1980|1981|1982|1983|1984|1985|1986|1987|1988|1989|1990|1991|1992|1993|1994|1995|1996|1997|1998|1999')].drop(columns='last_update').copy()\n",
    "dfN01_25 = dfN[dfN['rd_year'].astype('str').str.contains('2000|2001|2002|2003|2004|2005|2006|2007|2008|2009|2010|2011|2012|2013|2014|2015|2016|2017|2018|2019|2020|2021|2022|2023|2024|2025')].copy()\n",
    "dfN01_25.sort_values(by='rd_year', ascending=False).head(5)"
   ],
   "id": "8a6f1f141b82815e",
   "outputs": [],
   "execution_count": null
  },
  {
   "metadata": {},
   "cell_type": "markdown",
   "source": "### Finding unqiues across the `str` columns",
   "id": "dea350131a35bdc5"
  },
  {
   "metadata": {},
   "cell_type": "code",
   "source": [
    "unqiueTitle = dfN['title'].unique()\n",
    "uniqueCon = dfN['console'].unique()\n",
    "uniqueGenre = dfN['genre'].unique()\n",
    "uniquePub = dfN['publisher'].unique()\n",
    "uniqueDev = dfN['developer'].unique()\n",
    "\n",
    "print(len(unqiueTitle))\n",
    "print(len(uniqueCon))\n",
    "print(len(uniqueGenre))\n",
    "print(len(uniquePub))\n",
    "print(len(uniqueDev))"
   ],
   "id": "883a6752e1d49989",
   "outputs": [],
   "execution_count": null
  },
  {
   "metadata": {},
   "cell_type": "markdown",
   "source": "## Analysis start ->",
   "id": "2941d5ce0ca745b1"
  },
  {
   "metadata": {},
   "cell_type": "markdown",
   "source": [
    "\n",
    "### TAKES THE HIGHEST SALES, FOR EACH GROUP, AND GIVES AN ANALYSIS FOR,\n",
    "### NOTE: The values are taken over the time, i.e, from 1977-2024\n",
    "#### 1. TITLES\n",
    "#### 2. PUBLISHERS\n",
    "#### 3. DEVELOPERS\n",
    "#### 4. CONSOLES"
   ],
   "id": "59c4237730635d22"
  },
  {
   "metadata": {},
   "cell_type": "markdown",
   "source": "### Popular Titles:",
   "id": "b891d5b91be44684"
  },
  {
   "metadata": {},
   "cell_type": "code",
   "source": [
    "\n",
    "dfN_PopularTitles = dfN.drop(columns='release_date').drop(columns='last_update').drop(columns='rd_year').groupby(['title'], as_index=False).sum().copy()\n",
    "\n",
    "salesarr = {'total_sales':'Total Sales over the Globe','jp_sales':'Japan Sales','na_sales':'North America Sales','pal_sales':'Europe and Africa Sales','other_sales':'Other Sales across the Globe'}\n",
    "\n",
    "for key_a in salesarr:\n",
    "    HighestDf = dfN_PopularTitles.sort_values(by=f'{key_a}', ascending = False)[:15]\n",
    "    for key_b, value_b in salesarr.items():\n",
    "        if key_b == key_a:\n",
    "            figHist = px.histogram(HighestDf, x= HighestDf['title'], y = HighestDf[f'{key_b}'], color=HighestDf['title'], labels={'title': 'Game',f'{key_b}':'copies in million'}, color_discrete_sequence= [\"#4E79A7\", \"#F28E2B\", \"#E15759\", \"#76B7B2\", \"#59A14F\", \"#EDC949\", \"#AF7AA1\", \"#FF9DA7\", \"#9C755F\", \"#BAB0AC\", \"#1F77B4\", \"#FF7F0E\", \"#2CA02C\", \"#D62728\", \"#9467BD\"], text_auto=True, title=f'Highest Selling games based on {value_b}')\n",
    "            figHist.show()"
   ],
   "id": "a20bf7418e047519",
   "outputs": [],
   "execution_count": null
  },
  {
   "metadata": {},
   "cell_type": "markdown",
   "source": "### Popular Publishers:",
   "id": "38c530d88c0ed483"
  },
  {
   "metadata": {},
   "cell_type": "code",
   "source": [
    "dfN_PopPublishers_Sales = dfN.drop(columns='release_date').drop(columns='last_update').drop(columns='rd_year').groupby(['publisher'], as_index=False).sum().copy()\n",
    "\n",
    "for key_a in salesarr:\n",
    "    HighestDf = dfN_PopPublishers_Sales.sort_values(by=f'{key_a}', ascending = False)[:15]\n",
    "    for key_b, value_b in salesarr.items():\n",
    "        if key_b == key_a:\n",
    "            figHist = px.histogram(HighestDf, x= HighestDf['publisher'], y = HighestDf[f'{key_b}'], color=HighestDf['publisher'], labels={'publisher': 'Publisher',f'{key_b}':'copies in million'}, color_discrete_sequence= [\"#4E79A7\", \"#F28E2B\", \"#E15759\", \"#76B7B2\", \"#59A14F\", \"#EDC949\", \"#AF7AA1\", \"#FF9DA7\", \"#9C755F\", \"#BAB0AC\", \"#1F77B4\", \"#FF7F0E\", \"#2CA02C\", \"#D62728\", \"#9467BD\"], text_auto=True, title=f'Top Publishers that sold the most games based on {value_b}')\n",
    "            figHist.show()"
   ],
   "id": "da550f4342af05f9",
   "outputs": [],
   "execution_count": null
  },
  {
   "metadata": {},
   "cell_type": "markdown",
   "source": "### Popular Developers:",
   "id": "dbee0e1ba3a05877"
  },
  {
   "metadata": {},
   "cell_type": "code",
   "source": [
    "dfN_PopDevelopers_Sales = dfN.drop(columns='release_date').drop(columns='last_update').drop(columns='rd_year').groupby(['developer'], as_index=False).sum().copy()\n",
    "\n",
    "for key_a in salesarr:\n",
    "    HighestDf = dfN_PopDevelopers_Sales.sort_values(by=f'{key_a}', ascending = False)[:15]\n",
    "    for key_b, value_b in salesarr.items():\n",
    "        if key_b == key_a:\n",
    "            figHist = px.histogram(HighestDf, x= HighestDf['developer'], y = HighestDf[f'{key_b}'], color=HighestDf['developer'], labels={'developer': 'Developer',f'{key_b}':'copies in million'}, color_discrete_sequence= [\"#4E79A7\", \"#F28E2B\", \"#E15759\", \"#76B7B2\", \"#59A14F\", \"#EDC949\", \"#AF7AA1\", \"#FF9DA7\", \"#9C755F\", \"#BAB0AC\", \"#1F77B4\", \"#FF7F0E\", \"#2CA02C\", \"#D62728\", \"#9467BD\"], text_auto=True, title=f'Top Developers that sold the most games based on {value_b}')\n",
    "            figHist.show()"
   ],
   "id": "87c886f498aafa1c",
   "outputs": [],
   "execution_count": null
  },
  {
   "metadata": {},
   "cell_type": "markdown",
   "source": "### Popular Consoles:",
   "id": "5072fe5cae311266"
  },
  {
   "metadata": {},
   "cell_type": "code",
   "source": [
    "dfN_PopularConsole = dfN.drop(columns='release_date').drop(columns='last_update').drop(columns='rd_year').groupby(['console'], as_index=False).sum().copy()\n",
    "\n",
    "for key_a in salesarr:\n",
    "    HighestDf = dfN_PopularConsole.sort_values(by=f'{key_a}', ascending = False)[:15]\n",
    "    for key_b, value_b in salesarr.items():\n",
    "        if key_b == key_a:\n",
    "            figHist = px.histogram(HighestDf, x= HighestDf['console'], y = HighestDf[f'{key_b}'], color=HighestDf['console'], labels={'console': 'Console',f'{key_b}':'copies in million'}, color_discrete_sequence= [\"#4E79A7\", \"#F28E2B\", \"#E15759\", \"#76B7B2\", \"#59A14F\", \"#EDC949\", \"#AF7AA1\", \"#FF9DA7\", \"#9C755F\", \"#BAB0AC\", \"#1F77B4\", \"#FF7F0E\", \"#2CA02C\", \"#D62728\", \"#9467BD\"], text_auto=True, title=f'Top Consoles that contributed to {value_b}')\n",
    "            figHist.show()"
   ],
   "id": "66f70e45ab4369d8",
   "outputs": [],
   "execution_count": null
  },
  {
   "metadata": {},
   "cell_type": "markdown",
   "source": [
    "### ON THE BASIS OF CRITIC SCORES\n",
    "#### Note : `Following caution must be taken that the critic score are considered with accordance to the total sales overall, this is done as most games don't have a critic score for particular consoles, while others dont have any. This affects the overall mean() and so has been ignored.`"
   ],
   "id": "55ec45d54bbcddef"
  },
  {
   "metadata": {},
   "cell_type": "code",
   "source": [
    "dfNa = dfN[dfN['critic_score'] != 0].copy()\n",
    "\n",
    "dfNb = dfNa.drop(columns=['release_date', 'last_update', 'rd_year', 'developer', 'publisher', 'console', 'genre']).groupby(by='title')['critic_score'].mean().to_numpy()\n",
    "\n",
    "dfNc = dfNa.drop(columns=['release_date', 'last_update', 'rd_year', 'developer', 'publisher', 'console', 'genre', 'critic_score']).groupby(by=['title'], as_index=False).sum()\n",
    "\n",
    "\n",
    "dfNc['critic_score_mean'] = dfNb\n",
    "dfNc = dfNc.sort_values(by=['total_sales','critic_score_mean'], ascending = False).head(15)\n",
    "\n",
    "figHist2 = px.histogram(dfNc, x='title',y='critic_score_mean',color='title',color_discrete_sequence=[\"#4E79A7\", \"#F28E2B\", \"#E15759\", \"#76B7B2\", \"#59A14F\", \"#EDC949\", \"#AF7AA1\", \"#FF9DA7\", \"#9C755F\", \"#BAB0AC\", \"#1F77B4\", \"#FF7F0E\", \"#2CA02C\", \"#D62728\", \"#9467BD\"],title='Critic Score with respect to Total sales across the Globe')\n",
    "figHist2.show()"
   ],
   "id": "789cbd36cb1d67b2",
   "outputs": [],
   "execution_count": null
  },
  {
   "metadata": {},
   "cell_type": "markdown",
   "source": [
    "### THIS DISPLAYS WHICH GENRE IS PREFERED ON THE BASIS OF THE SALES\n",
    "#### FIRST IS OVERALL, THE REST IS FROM YEAR 1975-2000 AND THEN 2001-2024"
   ],
   "id": "bcd4db2d6d6f2a7b"
  },
  {
   "metadata": {},
   "cell_type": "code",
   "source": [
    "dfN_PopGenre = dfN.drop(columns=['release_date','last_update']).groupby(['genre'], as_index=False).sum().copy()\n",
    "dfN_PopGenre_75_00 = dfN75_00.drop(columns='release_date').groupby(['genre'], as_index=False).sum().copy()\n",
    "dfN_PopGenre_01_25 = dfN01_25.drop(columns='release_date').groupby(['genre'], as_index=False).sum().copy()\n",
    "\n",
    "\n",
    "print('These are the genres that have been popular over the time, i.e. from 1975-2025')\n",
    "for value in salesarr:\n",
    "    pie_fig = px.pie(dfN_PopGenre, values=f'{value}', names='genre',labels={f'{value}':f'{value}', 'genre':'Genre'}, color_discrete_sequence=px.colors.qualitative.Vivid, title=f'The sales are given with accordance to {value}')\n",
    "    pie_fig.show()\n",
    "\n",
    "print('These are the genres that have been popular from 1975-2000')\n",
    "for value in salesarr:\n",
    "    pie_fig = px.pie(dfN_PopGenre_75_00, values=f'{value}', names='genre',labels={f'{value}':f'{value}', 'genre':'Genre'}, color_discrete_sequence=px.colors.qualitative.Vivid, title=f'The sales are given with accordance to {value}')\n",
    "    pie_fig.show()\n",
    "\n",
    "print('These are the genres that have been popular from 2001-2024')\n",
    "for value in salesarr:\n",
    "    pie_fig = px.pie(dfN_PopGenre_01_25, values=f'{value}', names='genre',labels={f'{value}':f'{value}', 'genre':'Genre'}, color_discrete_sequence=px.colors.qualitative.Vivid, title=f'The sales are given with accordance to {value}')\n",
    "    pie_fig.show()"
   ],
   "id": "fe0b67c391a9ec6",
   "outputs": [],
   "execution_count": null
  },
  {
   "metadata": {},
   "cell_type": "markdown",
   "source": [
    "### THE FOLLOWING SEGREGATES THE ABOVE DATAFRAME INTO 1975-2000 AND 2001-2024\n",
    "#### NOTE: `HOWEVER GAMES WITHOUT RELEASE DATE HAVE BEEN IGNORED AS THE DATASET DOESN'T INCLUDE IT AND ASSUMING DATES WOULD HAMPER THE DATA ANALYSIS`"
   ],
   "id": "7f6bab62138dfd65"
  },
  {
   "metadata": {},
   "cell_type": "markdown",
   "source": "### Popular Titles :",
   "id": "95f926a9c8ccff55"
  },
  {
   "metadata": {},
   "cell_type": "code",
   "source": [
    "dfN_PopTitles_Sales_75_00 = dfN75_00.drop(columns=['release_date','rd_year']).groupby(['title'], as_index=False).sum().copy()\n",
    "\n",
    "for key_a in salesarr:\n",
    "    HighestDf = dfN_PopTitles_Sales_75_00.sort_values(by=f'{key_a}', ascending = False)[:15]\n",
    "    for key_b, value_b in salesarr.items():\n",
    "        if key_b == key_a:\n",
    "            figHist = px.histogram(HighestDf, x= HighestDf['title'], y = HighestDf[f'{key_b}'], color=HighestDf['title'], labels={'title': 'Games',f'{key_b}':'copies in million'}, color_discrete_sequence= [\"#4E79A7\", \"#F28E2B\", \"#E15759\", \"#76B7B2\", \"#59A14F\", \"#EDC949\", \"#AF7AA1\", \"#FF9DA7\", \"#9C755F\", \"#BAB0AC\", \"#1F77B4\", \"#FF7F0E\", \"#2CA02C\", \"#D62728\", \"#9467BD\"], text_auto=True, title=f'Highest Selling Games from 1975-2000 based on {value_b}')\n",
    "            figHist.show()\n",
    "\n",
    "dfN_PopTitles_Sales_01_25 = dfN01_25.drop(columns=['release_date','rd_year']).groupby(['title'], as_index=False).sum().copy()\n",
    "\n",
    "for key_a in salesarr:\n",
    "    HighestDf = dfN_PopTitles_Sales_01_25.sort_values(by=f'{key_a}', ascending = False)[:15]\n",
    "    for key_b, value_b in salesarr.items():\n",
    "        if key_b == key_a:\n",
    "            figHist = px.histogram(HighestDf, x= HighestDf['title'], y = HighestDf[f'{key_b}'], color=HighestDf['title'], labels={'title': 'Games',f'{key_b}':'copies in million'}, color_discrete_sequence= [\"#4E79A7\", \"#F28E2B\", \"#E15759\", \"#76B7B2\", \"#59A14F\", \"#EDC949\", \"#AF7AA1\", \"#FF9DA7\", \"#9C755F\", \"#BAB0AC\", \"#1F77B4\", \"#FF7F0E\", \"#2CA02C\", \"#D62728\", \"#9467BD\"], text_auto=True, title=f'Highest Selling Games from 2001-2024 based on {value_b}')\n",
    "            figHist.show()"
   ],
   "id": "369d9ca80072e5fd",
   "outputs": [],
   "execution_count": null
  },
  {
   "metadata": {},
   "cell_type": "markdown",
   "source": "### Popular Developers :",
   "id": "b098aa15bbc61383"
  },
  {
   "metadata": {},
   "cell_type": "code",
   "source": [
    "dfN_PopDevelopers_Sales_75_00 = dfN75_00.drop(columns=['release_date','rd_year']).groupby(['developer'], as_index=False).sum().copy()\n",
    "\n",
    "for key_a in salesarr:\n",
    "    HighestDf = dfN_PopDevelopers_Sales_75_00.sort_values(by=f'{key_a}', ascending = False)[:15]\n",
    "    for key_b, value_b in salesarr.items():\n",
    "        if key_b == key_a:\n",
    "            figHist = px.histogram(HighestDf, x= HighestDf['developer'], y = HighestDf[f'{key_b}'], color=HighestDf['developer'], labels={'developer': 'Developer',f'{key_b}':'copies in million'}, color_discrete_sequence= [\"#4E79A7\", \"#F28E2B\", \"#E15759\", \"#76B7B2\", \"#59A14F\", \"#EDC949\", \"#AF7AA1\", \"#FF9DA7\", \"#9C755F\", \"#BAB0AC\", \"#1F77B4\", \"#FF7F0E\", \"#2CA02C\", \"#D62728\", \"#9467BD\"], text_auto=True, title=f'Top Developers during 1975-2000 based on {value_b}')\n",
    "            figHist.show()\n",
    "\n",
    "dfN_PopDevelopers_Sales_01_25 = dfN01_25.drop(columns=['release_date','rd_year']).groupby(['developer'], as_index=False).sum().copy()\n",
    "\n",
    "for key_a in salesarr:\n",
    "    HighestDf = dfN_PopDevelopers_Sales_01_25.sort_values(by=f'{key_a}', ascending = False)[:15]\n",
    "    for key_b, value_b in salesarr.items():\n",
    "        if key_b == key_a:\n",
    "            figHist = px.histogram(HighestDf, x= HighestDf['developer'], y = HighestDf[f'{key_b}'], color=HighestDf['developer'], labels={'developer': 'Developer',f'{key_b}':'copies in million'}, color_discrete_sequence= [\"#4E79A7\", \"#F28E2B\", \"#E15759\", \"#76B7B2\", \"#59A14F\", \"#EDC949\", \"#AF7AA1\", \"#FF9DA7\", \"#9C755F\", \"#BAB0AC\", \"#1F77B4\", \"#FF7F0E\", \"#2CA02C\", \"#D62728\", \"#9467BD\"], text_auto=True, title=f'Top Developers during 2001-2024 based on {value_b}')\n",
    "            figHist.show()"
   ],
   "id": "2efc5cbf087a1a39",
   "outputs": [],
   "execution_count": null
  },
  {
   "metadata": {},
   "cell_type": "markdown",
   "source": "### Popular Publishers :",
   "id": "2e371945403f4289"
  },
  {
   "metadata": {},
   "cell_type": "code",
   "source": [
    "dfN_PopPublishers_Sales_75_00 = dfN75_00.drop(columns=['release_date','rd_year']).groupby(['publisher'], as_index=False).sum().copy()\n",
    "\n",
    "for key_a in salesarr:\n",
    "    HighestDf = dfN_PopPublishers_Sales_75_00.sort_values(by=f'{key_a}', ascending = False)[:15]\n",
    "    for key_b, value_b in salesarr.items():\n",
    "        if key_b == key_a:\n",
    "            figHist = px.histogram(HighestDf, x= HighestDf['publisher'], y = HighestDf[f'{key_b}'], color=HighestDf['publisher'], labels={'publisher': 'Publisher',f'{key_b}':'copies in million'}, color_discrete_sequence= [\"#4E79A7\", \"#F28E2B\", \"#E15759\", \"#76B7B2\", \"#59A14F\", \"#EDC949\", \"#AF7AA1\", \"#FF9DA7\", \"#9C755F\", \"#BAB0AC\", \"#1F77B4\", \"#FF7F0E\", \"#2CA02C\", \"#D62728\", \"#9467BD\"], text_auto=True, title=f'Top Publishers during 1975-2000 based on {value_b}')\n",
    "            figHist.show()\n",
    "\n",
    "dfN_PopPublishers_Sales_01_25 = dfN01_25.drop(columns=['release_date','rd_year']).groupby(['publisher'], as_index=False).sum().copy()\n",
    "\n",
    "for key_a in salesarr:\n",
    "    HighestDf = dfN_PopPublishers_Sales_01_25.sort_values(by=f'{key_a}', ascending = False)[:15]\n",
    "    for key_b, value_b in salesarr.items():\n",
    "        if key_b == key_a:\n",
    "            figHist = px.histogram(HighestDf, x= HighestDf['publisher'], y = HighestDf[f'{key_b}'], color=HighestDf['publisher'], labels={'publisher': 'Publisher',f'{key_b}':'copies in million'}, color_discrete_sequence= [\"#4E79A7\", \"#F28E2B\", \"#E15759\", \"#76B7B2\", \"#59A14F\", \"#EDC949\", \"#AF7AA1\", \"#FF9DA7\", \"#9C755F\", \"#BAB0AC\", \"#1F77B4\", \"#FF7F0E\", \"#2CA02C\", \"#D62728\", \"#9467BD\"], text_auto=True, title=f'Top Publishers during 2001-2024 based on {value_b}')\n",
    "            figHist.show()"
   ],
   "id": "4c6842edcf0c3014",
   "outputs": [],
   "execution_count": null
  },
  {
   "metadata": {},
   "cell_type": "markdown",
   "source": "### Popular Consoles :",
   "id": "663a7afe116d5414"
  },
  {
   "metadata": {},
   "cell_type": "code",
   "source": [
    "dfN_PopConsoles_Sales_75_00 = dfN75_00.drop(columns=['release_date','rd_year']).groupby(['console'], as_index=False).sum().copy()\n",
    "\n",
    "for key_a in salesarr:\n",
    "    HighestDf = dfN_PopConsoles_Sales_75_00.sort_values(by=f'{key_a}', ascending = False)[:15]\n",
    "    for key_b, value_b in salesarr.items():\n",
    "        if key_b == key_a:\n",
    "            figHist = px.histogram(HighestDf, x= HighestDf['console'], y = HighestDf[f'{key_b}'], color=HighestDf['console'], labels={'console': 'Developer',f'{key_b}':'copies in million'}, color_discrete_sequence= [\"#4E79A7\", \"#F28E2B\", \"#E15759\", \"#76B7B2\", \"#59A14F\", \"#EDC949\", \"#AF7AA1\", \"#FF9DA7\", \"#9C755F\", \"#BAB0AC\", \"#1F77B4\", \"#FF7F0E\", \"#2CA02C\", \"#D62728\", \"#9467BD\"], text_auto=True, title=f'Top Consoles during 1975-2000 based on {value_b}')\n",
    "            figHist.show()\n",
    "\n",
    "dfN_PopConsoles_Sales_01_25 = dfN01_25.drop(columns=['release_date','rd_year']).groupby(['console'], as_index=False).sum().copy()\n",
    "\n",
    "for key_a in salesarr:\n",
    "    HighestDf = dfN_PopConsoles_Sales_01_25.sort_values(by=f'{key_a}', ascending = False)[:15]\n",
    "    for key_b, value_b in salesarr.items():\n",
    "        if key_b == key_a:\n",
    "            figHist = px.histogram(HighestDf, x= HighestDf['console'], y = HighestDf[f'{key_b}'], color=HighestDf['console'], labels={'console': 'Developer',f'{key_b}':'copies in million'}, color_discrete_sequence= [\"#4E79A7\", \"#F28E2B\", \"#E15759\", \"#76B7B2\", \"#59A14F\", \"#EDC949\", \"#AF7AA1\", \"#FF9DA7\", \"#9C755F\", \"#BAB0AC\", \"#1F77B4\", \"#FF7F0E\", \"#2CA02C\", \"#D62728\", \"#9467BD\"], text_auto=True, title=f'Top Consoles during 2001-2024 based on {value_b}')\n",
    "            figHist.show()\n",
    "\n"
   ],
   "id": "c24dd9b0094b05cd",
   "outputs": [],
   "execution_count": null
  }
 ],
 "metadata": {
  "kernelspec": {
   "display_name": "Python 3",
   "language": "python",
   "name": "python3"
  },
  "language_info": {
   "codemirror_mode": {
    "name": "ipython",
    "version": 2
   },
   "file_extension": ".py",
   "mimetype": "text/x-python",
   "name": "python",
   "nbconvert_exporter": "python",
   "pygments_lexer": "ipython2",
   "version": "2.7.6"
  }
 },
 "nbformat": 4,
 "nbformat_minor": 5
}
